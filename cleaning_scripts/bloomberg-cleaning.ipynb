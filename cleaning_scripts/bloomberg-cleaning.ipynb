{
 "cells": [
  {
   "cell_type": "markdown",
   "id": "0abcd7ac",
   "metadata": {},
   "source": [
    "# Cleaning Code"
   ]
  },
  {
   "cell_type": "code",
   "execution_count": 80,
   "id": "6ee74d7e",
   "metadata": {},
   "outputs": [],
   "source": [
    "import pandas as pd"
   ]
  },
  {
   "cell_type": "code",
   "execution_count": 81,
   "id": "5c4a81b2",
   "metadata": {},
   "outputs": [],
   "source": [
    "data = pd.read_csv('../data/combined_bloomberg_mostly_raw.csv')\n",
    "data = data.dropna()\n",
    "data = data.drop(columns=['Unnamed: 0'])\n",
    "data['Issuer Ticker'] = data['Issuer Ticker'].str.split(' ').str[0]\n",
    "data = data.set_index('Issuer Ticker')\n",
    "data['Underpriced'] = (data['Priced Range'] == 'Priced Above Range').astype(int)\n",
    "data.to_csv('../data/clean_bloomberg.csv')"
   ]
  }
 ],
 "metadata": {
  "kernelspec": {
   "display_name": "Python 3 (ipykernel)",
   "language": "python",
   "name": "python3"
  },
  "language_info": {
   "codemirror_mode": {
    "name": "ipython",
    "version": 3
   },
   "file_extension": ".py",
   "mimetype": "text/x-python",
   "name": "python",
   "nbconvert_exporter": "python",
   "pygments_lexer": "ipython3",
   "version": "3.9.7"
  }
 },
 "nbformat": 4,
 "nbformat_minor": 5
}
