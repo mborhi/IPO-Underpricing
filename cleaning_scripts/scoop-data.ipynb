{
 "cells": [
  {
   "cell_type": "markdown",
   "id": "d8fbdad3",
   "metadata": {},
   "source": [
    "# Excel to Python Dataframe"
   ]
  },
  {
   "cell_type": "code",
   "execution_count": 247,
   "id": "4b02603f",
   "metadata": {},
   "outputs": [],
   "source": [
    "import pandas as pd"
   ]
  },
  {
   "cell_type": "code",
   "execution_count": 248,
   "id": "5f1012ea",
   "metadata": {},
   "outputs": [],
   "source": [
    "scoop = pd.read_excel(\"IPOScoop-Dataset.xls\")"
   ]
  },
  {
   "cell_type": "code",
   "execution_count": 250,
   "id": "dc6dc92a",
   "metadata": {},
   "outputs": [],
   "source": [
    "overview = scoop[3:24]\n",
    "overview = overview.drop(columns=['Unnamed: 6', \n",
    "                                  'Unnamed: 7', \n",
    "                                  'Unnamed: 8', \n",
    "                                  'Unnamed: 9', \n",
    "                                  'Unnamed: 10', \n",
    "                                  'Unnamed: 11'])\n",
    "overview.rename(columns={'Unnamed: 0': 'Date', \n",
    "                         'Unnamed: 1': 'IPOs Priced',\n",
    "                         'Unnamed: 2': 'Calls',\n",
    "                         'IPO SCOOP Rating Scorecard': 'On Target',\n",
    "                         'Unnamed: 4': 'Missed',\n",
    "                         'Unnamed: 5': 'Batting Average'\n",
    "                        }, inplace=True)\n",
    "\n",
    "overview['Date'] = overview['Date'].astype('int32')\n",
    "overview['IPOs Priced'] = overview['IPOs Priced'].astype('int32')\n",
    "overview['Calls'] = overview['Calls'].astype('int32')\n",
    "overview['On Target'] = overview['On Target'].astype('int32')\n",
    "overview['Missed'] = overview['Missed'].astype('int32')\n",
    "overview['Batting Average'] = overview['Batting Average'].astype('float32')\n",
    "overview = overview.set_index('Date')"
   ]
  },
  {
   "cell_type": "code",
   "execution_count": 233,
   "id": "22ce9662",
   "metadata": {},
   "outputs": [],
   "source": [
    "def get_data(year, start, end):\n",
    "    name = scoop[start:end]\n",
    "    name = name.drop(columns=['Unnamed: 11'])\n",
    "    name.rename(columns={'Unnamed: 0': 'Trade Date', \n",
    "                             'Unnamed: 1': 'Company',\n",
    "                             'Unnamed: 2': 'Ticker',\n",
    "                             'IPO SCOOP Rating Scorecard': 'Lead/Joint-Lead Mangers',\n",
    "                             'Unnamed: 4': 'Offer Price',\n",
    "                             'Unnamed: 5': 'Opening Price',\n",
    "                             'Unnamed: 6': '1st Day Close',\n",
    "                             'Unnamed: 7': '1st Day Percent Change',\n",
    "                             'Unnamed: 8': 'Change Opening',\n",
    "                             'Unnamed: 9': 'Change Close',\n",
    "                             'Unnamed: 10': 'Star Ratings'\n",
    "                            }, inplace=True)\n",
    "    name['Trade Date'] = name['Trade Date'].astype('datetime64')\n",
    "    name['Company'] = name['Company'].astype(str)\n",
    "    name['Ticker'] = name['Ticker'].astype(str)\n",
    "    name['Lead/Joint-Lead Mangers'] = name['Lead/Joint-Lead Mangers'].str.split('/ ').astype(str)\n",
    "    name['Offer Price'] = name['Offer Price'].astype('float32')\n",
    "    name['Opening Price'] = name['Opening Price'].astype('float32')\n",
    "    name['1st Day Close'] = name['1st Day Close'].astype('float64')\n",
    "    name['1st Day Percent Change'] = name['1st Day Percent Change'].astype('float32')\n",
    "    name['Change Opening'] = name['Change Opening'].astype('float32')\n",
    "    name['Change Close'] = name['Change Close'].astype('float32')\n",
    "    name['Year'] = year\n",
    "    name = name.set_index('Ticker')\n",
    "    return name"
   ]
  },
  {
   "cell_type": "code",
   "execution_count": 251,
   "id": "b6b1e303",
   "metadata": {},
   "outputs": [],
   "source": [
    "ipos_2020 = get_data(2020, 36, 241)\n",
    "ipos_2019 = get_data(2019, 246, 467)\n",
    "ipos_2018 = get_data(2018, 472, 701)\n",
    "ipos_2017 = get_data(2017, 706, 887)\n",
    "ipos_2016 = get_data(2016, 892, 998)\n",
    "ipos_2015 = get_data(2015, 1003, 1176)\n",
    "ipos_2014 = get_data(2014, 1181, 1469)\n",
    "ipos_2013 = get_data(2013, 1474, 1704)\n",
    "# ipos_2012 = get_data(2012, 1709, 1855)\n",
    "ipos_2011 = get_data(2011, 1861, 2004)\n",
    "ipos_2010 = get_data(2010, 2009, 2169)\n",
    "ipos_2009 = get_data(2009, 2174, 2235)\n",
    "ipos_2008 = get_data(2008, 2240, 2287)\n",
    "ipos_2007 = get_data(2007, 2292, 2548)\n",
    "ipos_2006 = get_data(2006, 2553, 2790)\n",
    "ipos_2005 = get_data(2005, 2795, 3021)\n",
    "ipos_2004 = get_data(2004, 3026, 3259)\n",
    "ipos_2003 = get_data(2003, 3264, 3344)\n",
    "ipos_2002 = get_data(2002, 3349, 3431)\n",
    "ipos_2001 = get_data(2001, 3436, 3530)\n",
    "ipos_2000 = get_data(2000, 3535, 3772)"
   ]
  },
  {
   "cell_type": "code",
   "execution_count": 252,
   "id": "de783987",
   "metadata": {},
   "outputs": [],
   "source": [
    "frames = [ipos_2000, ipos_2001, ipos_2002, ipos_2003, ipos_2004, \n",
    "          ipos_2005, ipos_2006, ipos_2007, ipos_2008, ipos_2009, \n",
    "          ipos_2010, ipos_2011, ipos_2013, ipos_2014, \n",
    "          ipos_2015, ipos_2016, ipos_2017, ipos_2018, ipos_2019,\n",
    "          ipos_2020]\n",
    "ipos = pd.concat(frames)"
   ]
  },
  {
   "cell_type": "code",
   "execution_count": 254,
   "id": "62a43540",
   "metadata": {},
   "outputs": [],
   "source": [
    "ipos.to_csv('scoop_ipos.csv')"
   ]
  }
 ],
 "metadata": {
  "kernelspec": {
   "display_name": "Python 3 (ipykernel)",
   "language": "python",
   "name": "python3"
  },
  "language_info": {
   "codemirror_mode": {
    "name": "ipython",
    "version": 3
   },
   "file_extension": ".py",
   "mimetype": "text/x-python",
   "name": "python",
   "nbconvert_exporter": "python",
   "pygments_lexer": "ipython3",
   "version": "3.9.7"
  }
 },
 "nbformat": 4,
 "nbformat_minor": 5
}
