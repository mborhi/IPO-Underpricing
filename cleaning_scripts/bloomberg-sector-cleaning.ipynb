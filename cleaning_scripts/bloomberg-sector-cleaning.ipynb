{
 "cells": [
  {
   "cell_type": "code",
   "execution_count": 34,
   "metadata": {},
   "outputs": [],
   "source": [
    "import pandas as pd\n",
    "import numpy as np"
   ]
  },
  {
   "cell_type": "code",
   "execution_count": 35,
   "metadata": {},
   "outputs": [],
   "source": [
    "# read csv\n",
    "data = pd.read_csv('../data/combined_bloomberg_mostly_raw.csv')\n",
    "data = data.dropna()\n",
    "data = data.drop(columns=['Unnamed: 0'])"
   ]
  },
  {
   "cell_type": "code",
   "execution_count": 36,
   "metadata": {},
   "outputs": [],
   "source": [
    "# clean numeric values\n",
    "data['Issuer Ticker'] = data['Issuer Ticker'].str.split(' ').str[0]\n",
    "data = data.set_index('Issuer Ticker')\n",
    "data['Underpriced'] = (data['Priced Range'] == 'Priced Above Range').astype(int)"
   ]
  },
  {
   "cell_type": "code",
   "execution_count": 37,
   "metadata": {},
   "outputs": [
    {
     "name": "stdout",
     "output_type": "stream",
     "text": [
      "no sectors: 10\n",
      "no industy_groups: 0\n",
      "no industries: 64\n",
      "no sub_industries: 265\n"
     ]
    }
   ],
   "source": [
    "# collect all the sectors, industry groups, industries, and sub-industries\n",
    "sectors = data[\"Industry Sector\"].unique()\n",
    "industry_groups = []\n",
    "industries = data[\"Industry Group\"].unique()\n",
    "sub_industries = data[\"Industry Subgroup\"].unique()\n",
    "\n",
    "print(\"no sectors:\", len(sectors))\n",
    "print(\"no industy_groups:\", len(industry_groups))\n",
    "print(\"no industries:\", len(industries))\n",
    "print(\"no sub_industries:\", len(sub_industries))"
   ]
  },
  {
   "cell_type": "code",
   "execution_count": 38,
   "metadata": {},
   "outputs": [
    {
     "data": {
      "text/plain": [
       "Issuer Name                     object\n",
       "Sales - 1 Yr Growth            float64\n",
       "Profit Margin                  float64\n",
       "Return on Assets               float64\n",
       "Offer Size (M)                 float64\n",
       "Shares Outstanding (M)         float64\n",
       "Offer Price                    float64\n",
       "Offer To 1st Close             float64\n",
       "Market Cap at Offer (M)        float64\n",
       "Trade Date (US)                 object\n",
       "cusip                           object\n",
       "Cash Flow per Share            float64\n",
       "Offer Size (M).1               float64\n",
       "Shares Outstanding (M).1       float64\n",
       "Instit Owner (% Shares Out)    float64\n",
       "Instit Owner (Shares Held)     float64\n",
       "Filing Term Price Range         object\n",
       "Priced Range                    object\n",
       "Industry Sector                float64\n",
       "Industry Group                 float64\n",
       "Industry Subgroup              float64\n",
       "Underpriced                      int64\n",
       "dtype: object"
      ]
     },
     "execution_count": 38,
     "metadata": {},
     "output_type": "execute_result"
    }
   ],
   "source": [
    "# replace all fields with a numeric value\n",
    "data[\"Industry Sector\"] = data[\"Industry Sector\"].apply(lambda sector: np.where(sectors == sector)[0][0]).astype('float')\n",
    "data[\"Industry Group\"] = data[\"Industry Group\"].apply(lambda industry: np.where(industries == industry)[0][0]).astype('float')\n",
    "data[\"Industry Subgroup\"] = data[\"Industry Subgroup\"].apply(lambda sub_industry: np.where(sub_industries == sub_industry)[0][0]).astype('float')\n",
    "data.dtypes"
   ]
  },
  {
   "cell_type": "code",
   "execution_count": 39,
   "metadata": {},
   "outputs": [],
   "source": [
    "# add values to a csv\n",
    "data.to_csv('../data/clean_bloomberg_with_sectors.csv')"
   ]
  }
 ],
 "metadata": {
  "kernelspec": {
   "display_name": "Python 3.9.13 ('base')",
   "language": "python",
   "name": "python3"
  },
  "language_info": {
   "codemirror_mode": {
    "name": "ipython",
    "version": 3
   },
   "file_extension": ".py",
   "mimetype": "text/x-python",
   "name": "python",
   "nbconvert_exporter": "python",
   "pygments_lexer": "ipython3",
   "version": "3.9.13"
  },
  "orig_nbformat": 4,
  "vscode": {
   "interpreter": {
    "hash": "fc31e280b75524b4b3dc48620d9955e9f0dcb074fec9ce8e5d6a0782dd021286"
   }
  }
 },
 "nbformat": 4,
 "nbformat_minor": 2
}
