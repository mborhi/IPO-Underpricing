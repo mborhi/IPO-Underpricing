{
 "cells": [
  {
   "cell_type": "code",
   "execution_count": null,
   "metadata": {},
   "outputs": [],
   "source": [
    "# import tensorflow and other libraries\n",
    "import tensorflow_decision_forests as tfdf\n",
    "\n",
    "import os\n",
    "import numpy as np\n",
    "import pandas as pd\n",
    "import tensorflow as tf\n",
    "import math"
   ]
  },
  {
   "cell_type": "code",
   "execution_count": null,
   "metadata": {},
   "outputs": [],
   "source": [
    "# load dataset\n",
    "ipos_ds_pd = pd.read_csv(\"scoop_ipos.csv\")\n",
    "# load target\n",
    "ipos_classification_labels_pd = None"
   ]
  },
  {
   "cell_type": "code",
   "execution_count": null,
   "metadata": {},
   "outputs": [],
   "source": [
    "# split dataset\n",
    "def split_dataset(dataset, test_ratio=0.1) :\n",
    "    # get random indices\n",
    "    test_indices = np.random.rand(len(dataset)) < test_ratio\n",
    "    # train_set, test_set\n",
    "    return dataset[~test_indices], dataset[test_indices]\n",
    "\n",
    "ipos_train_ds_pd, ipos_test_ds_pd = split_dataset(ipos_ds_pd, 0.2)\n",
    "# convert datasets to tensorflow datasets\n",
    "ipos_train_ds = tfdf.keras.pd_dataframe_to_tf_dataset(ipos_train_ds_pd, label=\"label\")\n",
    "ipos_test_ds = tfdf.keras.pd_dataframe_to_tf_dataset(ipos_test_ds_pd, label=\"label\")\n",
    "# convert target classification labels to a tensor \n",
    "ipos_classification_labels = None"
   ]
  },
  {
   "cell_type": "code",
   "execution_count": null,
   "metadata": {},
   "outputs": [],
   "source": [
    "# make model\n",
    "rf_model = tfdf.keras.RandomForestModel(verbose=2)\n",
    "# train model\n",
    "rf_model.fit(x=ipos_train_ds,y=ipos_classification_labels)"
   ]
  },
  {
   "cell_type": "code",
   "execution_count": null,
   "metadata": {},
   "outputs": [],
   "source": [
    "# evaluate the model\n",
    "rf_model.compile(metrics=[\"accuracy\"])\n",
    "evaluation = rf_model.evaluate(ipos_test_ds, return_dict=True)\n",
    "print()\n",
    "\n",
    "for name, value in evaluation.items():\n",
    "  print(f\"{name}: {value:.4f}\")"
   ]
  }
 ],
 "metadata": {
  "kernelspec": {
   "display_name": "Python 3.10.6 64-bit",
   "language": "python",
   "name": "python3"
  },
  "language_info": {
   "name": "python",
   "version": "3.10.6"
  },
  "orig_nbformat": 4,
  "vscode": {
   "interpreter": {
    "hash": "b0fa6594d8f4cbf19f97940f81e996739fb7646882a419484c72d19e05852a7e"
   }
  }
 },
 "nbformat": 4,
 "nbformat_minor": 2
}
