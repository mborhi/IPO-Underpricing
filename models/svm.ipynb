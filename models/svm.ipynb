{
 "cells": [
  {
   "cell_type": "markdown",
   "id": "b8f649e2",
   "metadata": {},
   "source": [
    "# Support Vector Machine\n",
    "The algorithm creates a hyperplane which separates the data into classes."
   ]
  },
  {
   "cell_type": "code",
   "execution_count": 9,
   "id": "26c3c17a",
   "metadata": {},
   "outputs": [],
   "source": [
    "from sklearn import svm, metrics\n",
    "from sklearn.model_selection import train_test_split\n",
    "import pandas as pd\n",
    "\n",
    "# visualizations\n",
    "import matplotlib.pyplot as plt\n",
    "import seaborn as sns\n",
    "\n",
    "# saving models\n",
    "import pickle"
   ]
  },
  {
   "cell_type": "markdown",
   "id": "db97bb8e",
   "metadata": {},
   "source": [
    "## Load Data"
   ]
  },
  {
   "cell_type": "code",
   "execution_count": 10,
   "id": "cf134ae4",
   "metadata": {},
   "outputs": [],
   "source": [
    "ipos = pd.read_csv(\"../data/clean_bloomberg_with_sectors_macro.csv\")\n",
    "ipo_labels = ipos[\"Underpriced\"].tolist()\n",
    "ipo_features = ipos._get_numeric_data().columns.values.tolist()[1:-1]\n",
    "ipo_features.remove('Offer To 1st Close')"
   ]
  },
  {
   "cell_type": "markdown",
   "id": "b890654e",
   "metadata": {},
   "source": [
    "## Split data into Training and Testing sets\n",
    "The data is split into 70% training data and 30% test data."
   ]
  },
  {
   "cell_type": "code",
   "execution_count": 4,
   "id": "da813cbe",
   "metadata": {},
   "outputs": [],
   "source": [
    "ipo_features = ipo_features[:-1]\n",
    "ipo_features_data = ipos[ipo_features]\n",
    "train_data, test_data, train_labels, test_labels = train_test_split(ipo_features_data, ipo_labels, test_size=0.3)"
   ]
  },
  {
   "cell_type": "markdown",
   "id": "ae84ce1f",
   "metadata": {},
   "source": [
    "## Train model"
   ]
  },
  {
   "cell_type": "code",
   "execution_count": 6,
   "id": "7ea06f1b",
   "metadata": {},
   "outputs": [],
   "source": [
    "clf = svm.SVC()\n",
    "clf.fit(train_data, train_labels)\n",
    "ipo_labels_pred = clf.predict(test_data)"
   ]
  },
  {
   "cell_type": "markdown",
   "id": "bf254c44",
   "metadata": {},
   "source": [
    "### Accuracy"
   ]
  },
  {
   "cell_type": "code",
   "execution_count": 7,
   "id": "c638a0ff",
   "metadata": {},
   "outputs": [
    {
     "name": "stdout",
     "output_type": "stream",
     "text": [
      "Class-wise Acurracy: [0. 1.]\n",
      "Overall Accuracy: 0.7333333333333333\n"
     ]
    }
   ],
   "source": [
    "matrix = metrics.confusion_matrix(test_labels, ipo_labels_pred)\n",
    "print(\"Class-wise Acurracy:\", matrix.diagonal()/matrix.sum(axis=1))\n",
    "print(\"Overall Accuracy:\", metrics.accuracy_score(test_labels, ipo_labels_pred))"
   ]
  },
  {
   "cell_type": "code",
   "execution_count": null,
   "id": "0254054c",
   "metadata": {},
   "outputs": [],
   "source": [
    "# save the model\n",
    "with open('saved_models/SVM.pkl', 'wb') as file:\n",
    "  pickle.dump(clf, file)"
   ]
  }
 ],
 "metadata": {
  "kernelspec": {
   "display_name": "Python 3 (ipykernel)",
   "language": "python",
   "name": "python3"
  },
  "language_info": {
   "codemirror_mode": {
    "name": "ipython",
    "version": 3
   },
   "file_extension": ".py",
   "mimetype": "text/x-python",
   "name": "python",
   "nbconvert_exporter": "python",
   "pygments_lexer": "ipython3",
   "version": "3.9.7"
  }
 },
 "nbformat": 4,
 "nbformat_minor": 5
}
