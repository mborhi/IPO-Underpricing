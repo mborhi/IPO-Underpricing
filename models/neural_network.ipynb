{
 "cells": [
  {
   "cell_type": "markdown",
   "id": "65be9a46",
   "metadata": {},
   "source": [
    "# Nerual Network for Binary Classification of IPO Underpricing\n",
    "\n",
    "### References\n",
    "[PyTorch - Binary Classification](https://towardsdatascience.com/pytorch-tabular-binary-classification-a0368da5bb89)\n",
    "\n",
    "[PyTorch for deep learning binary classification logistic regression](https://medium.com/analytics-vidhya/pytorch-for-deep-learning-binary-classification-logistic-regression-382abd97fb43)"
   ]
  },
  {
   "cell_type": "code",
   "execution_count": 4,
   "id": "7391ddde",
   "metadata": {},
   "outputs": [],
   "source": [
    "import torch\n",
    "import torch.nn as nn\n",
    "import torch.optim as optim\n",
    "from torch.utils.data import Dataset, DataLoader\n",
    "\n",
    "import numpy as np\n",
    "import pandas as pd\n",
    "import seaborn as sns\n",
    "import matplotlib.pyplot as plt\n",
    "\n",
    "from sklearn.preprocessing import StandardScaler    \n",
    "from sklearn.model_selection import train_test_split\n",
    "from sklearn.metrics import confusion_matrix, classification_report\n",
    "from sklearn.utils import resample\n",
    "from sklearn.metrics import accuracy_score\n",
    "from sklearn import metrics"
   ]
  },
  {
   "cell_type": "markdown",
   "id": "0599cecf",
   "metadata": {},
   "source": [
    "## Load Data"
   ]
  },
  {
   "cell_type": "code",
   "execution_count": 25,
   "id": "2b8244c7",
   "metadata": {},
   "outputs": [],
   "source": [
    "data = pd.read_csv(\"../data/clean_bloomberg_with_sectors_macro.csv\")\n",
    "ipo_labels = data['Underpriced'].tolist()\n",
    "ipo_features = data._get_numeric_data().columns.values.tolist()[1:-1]\n",
    "ipo_features.remove('Offer To 1st Close')\n",
    "x = data[ipo_features]\n",
    "y = torch.tensor(data.loc[:, 'Underpriced'])\n",
    "X_train, X_test, y_train, y_test = train_test_split(x, y, test_size=0.30, random_state=351)\n",
    "scaler = StandardScaler()\n",
    "X_train = scaler.fit_transform(X_train)\n",
    "X_test = scaler.transform(X_test)"
   ]
  },
  {
   "cell_type": "code",
   "execution_count": 26,
   "id": "6f883635",
   "metadata": {},
   "outputs": [
    {
     "data": {
      "text/plain": [
       "<AxesSubplot:xlabel='Underpriced', ylabel='count'>"
      ]
     },
     "execution_count": 26,
     "metadata": {},
     "output_type": "execute_result"
    },
    {
     "data": {
      "image/png": "[encoded data removed]",
      "text/plain": [
       "<Figure size 432x288 with 1 Axes>"
      ]
     },
     "metadata": {
      "needs_background": "light"
     },
     "output_type": "display_data"
    }
   ],
   "source": [
    "sns.countplot(x = 'Underpriced', data=data)"
   ]
  },
  {
   "cell_type": "markdown",
   "id": "14fb368b",
   "metadata": {},
   "source": [
    "## Hyperparameters\n",
    "- `Epochs`: Total number of iterations of the training loop. \\\n",
    "- `Batch Size:` The number of samples that will be propagated through the network. \\\n",
    "- `Learning Rate:` Determines the step size at each iteration while moving towards minimum loss."
   ]
  },
  {
   "cell_type": "code",
   "execution_count": 27,
   "id": "13b0716c",
   "metadata": {},
   "outputs": [],
   "source": [
    "EPOCHS = 20\n",
    "BATCH_SIZE = 64\n",
    "LEARNING_RATE = 0.001"
   ]
  },
  {
   "cell_type": "markdown",
   "id": "b847defd",
   "metadata": {},
   "source": [
    "## Train and Test Split"
   ]
  },
  {
   "cell_type": "code",
   "execution_count": 37,
   "id": "b62e6ad5",
   "metadata": {},
   "outputs": [],
   "source": [
    "# train data\n",
    "class TrainData(Dataset):\n",
    "    def __init__(self, X_data, y_data):\n",
    "        self.X_data = X_data\n",
    "        self.y_data = y_data\n",
    "        \n",
    "    def __getitem__(self, index):\n",
    "        return self.X_data[index], self.y_data[index]\n",
    "        \n",
    "    def __len__ (self):\n",
    "        return len(self.X_data)\n",
    "\n",
    "# test data    \n",
    "class TestData(Dataset):\n",
    "    def __init__(self, X_data):\n",
    "        self.X_data = X_data\n",
    "        \n",
    "    def __getitem__(self, index):\n",
    "        return self.X_data[index]\n",
    "        \n",
    "    def __len__ (self):\n",
    "        return len(self.X_data)\n",
    "\n",
    "# Split train and test data\n",
    "train_data = TrainData(torch.FloatTensor(X_train), y_train)\n",
    "test_data = TestData(torch.FloatTensor(X_test))"
   ]
  },
  {
   "cell_type": "code",
   "execution_count": 38,
   "id": "06a114fe",
   "metadata": {},
   "outputs": [],
   "source": [
    "train_loader = DataLoader(dataset=train_data, batch_size=BATCH_SIZE, shuffle=True)\n",
    "test_loader = DataLoader(dataset=test_data, batch_size=1)"
   ]
  },
  {
   "cell_type": "markdown",
   "id": "fcfb9f79",
   "metadata": {},
   "source": [
    "## Neural Network Architecture\n",
    "\n",
    "We create a 2-layer Feed-Forward network with BatchNorm and Dropout.\n",
    "\n",
    "Our data has 14 features, so our networks input `nn.Linear` layer is length 17."
   ]
  },
  {
   "cell_type": "code",
   "execution_count": 39,
   "id": "574cbb7e",
   "metadata": {},
   "outputs": [],
   "source": [
    "class BinaryClassification(nn.Module):\n",
    "    def __init__(self):\n",
    "        super(BinaryClassification, self).__init__()\n",
    "        # Number of input features is 17.\n",
    "        self.layer_1 = nn.Linear(17, 64) \n",
    "        self.layer_2 = nn.Linear(64, 64)\n",
    "        self.layer_out = nn.Linear(64, 1) \n",
    "        \n",
    "        self.relu = nn.ReLU()\n",
    "        self.dropout = nn.Dropout(p=0.1)\n",
    "        self.batchnorm1 = nn.BatchNorm1d(64)\n",
    "        self.batchnorm2 = nn.BatchNorm1d(64)\n",
    "        \n",
    "    def forward(self, inputs):\n",
    "        x = self.relu(self.layer_1(inputs))\n",
    "        x = self.batchnorm1(x)\n",
    "        x = self.relu(self.layer_2(x))\n",
    "        x = self.batchnorm2(x)\n",
    "        x = self.dropout(x)\n",
    "        x = self.layer_out(x)\n",
    "        \n",
    "        return x"
   ]
  },
  {
   "cell_type": "code",
   "execution_count": 40,
   "id": "cbd85ee1",
   "metadata": {},
   "outputs": [
    {
     "name": "stdout",
     "output_type": "stream",
     "text": [
      "cpu\n"
     ]
    }
   ],
   "source": [
    "device = torch.device(\"cuda:0\" if torch.cuda.is_available() else \"cpu\")\n",
    "print(device)"
   ]
  },
  {
   "cell_type": "code",
   "execution_count": 41,
   "id": "9a00251d",
   "metadata": {},
   "outputs": [],
   "source": [
    "model = BinaryClassification()\n",
    "model.to(device)\n",
    "# print(model)\n",
    "criterion = nn.BCEWithLogitsLoss()\n",
    "optimizer = optim.Adam(model.parameters(), lr=LEARNING_RATE)"
   ]
  },
  {
   "cell_type": "code",
   "execution_count": 42,
   "id": "0ee8e23a",
   "metadata": {},
   "outputs": [],
   "source": [
    "def binary_acc(y_pred, y_test):\n",
    "    y_pred_tag = torch.round(torch.sigmoid(y_pred))\n",
    "\n",
    "    correct_results_sum = (y_pred_tag == y_test).sum().float()\n",
    "    acc = correct_results_sum/y_test.shape[0]\n",
    "    acc = torch.round(acc * 100)\n",
    "    \n",
    "    return acc"
   ]
  },
  {
   "cell_type": "markdown",
   "id": "d92e0f11",
   "metadata": {},
   "source": [
    "## Training Loop\n",
    "The following chunk runs a training loop on the data to adjust the weights of the neural network using back propogation. We run the loop based on the `EPOCHS` hyperparameter.\n",
    "\n",
    "It's important not to overtrain the data or the model will become overfit on the training data and usually won't perform well on the test data."
   ]
  },
  {
   "cell_type": "code",
   "execution_count": 43,
   "id": "798a9312",
   "metadata": {},
   "outputs": [
    {
     "name": "stdout",
     "output_type": "stream",
     "text": [
      "epoch: 1   | loss: 0.71919 | accuracy: 50.36842  \n",
      "epoch: 2   | loss: 0.66529 | accuracy: 60.31579  \n",
      "epoch: 3   | loss: 0.63709 | accuracy: 64.52632  \n",
      "epoch: 4   | loss: 0.59759 | accuracy: 71.10526  \n",
      "epoch: 5   | loss: 0.57996 | accuracy: 70.84211  \n",
      "epoch: 6   | loss: 0.55283 | accuracy: 74.15789  \n",
      "epoch: 7   | loss: 0.52416 | accuracy: 76.42105  \n",
      "epoch: 8   | loss: 0.50398 | accuracy: 76.47368  \n",
      "epoch: 9   | loss: 0.48645 | accuracy: 78.10526  \n",
      "epoch: 10  | loss: 0.47011 | accuracy: 78.78947  \n",
      "epoch: 11  | loss: 0.45566 | accuracy: 79.57895  \n",
      "epoch: 12  | loss: 0.44014 | accuracy: 79.73684  \n",
      "epoch: 13  | loss: 0.44033 | accuracy: 80.15789  \n",
      "epoch: 14  | loss: 0.42243 | accuracy: 80.73684  \n",
      "epoch: 15  | loss: 0.42383 | accuracy: 79.89474  \n",
      "epoch: 16  | loss: 0.41231 | accuracy: 81.36842  \n",
      "epoch: 17  | loss: 0.39522 | accuracy: 81.89474  \n",
      "epoch: 18  | loss: 0.38695 | accuracy: 82.42105  \n",
      "epoch: 19  | loss: 0.39345 | accuracy: 83.26316  \n",
      "epoch: 20  | loss: 0.38816 | accuracy: 82.00000  \n"
     ]
    }
   ],
   "source": [
    "model.train()\n",
    "losses = []\n",
    "accur = []\n",
    "for e in range(1, EPOCHS+1):\n",
    "    epoch_loss = 0\n",
    "    epoch_acc = 0\n",
    "    for X_batch, y_batch in train_loader:\n",
    "        X_batch, y_batch = X_batch.to(device), y_batch.to(device)\n",
    "        optimizer.zero_grad()\n",
    "        \n",
    "        y_pred = model(X_batch)\n",
    "        \n",
    "        loss = criterion(y_pred, y_batch.unsqueeze(1).float())\n",
    "        acc = binary_acc(y_pred, y_batch.unsqueeze(1).float())\n",
    "        \n",
    "        loss.backward()\n",
    "        optimizer.step()\n",
    "        \n",
    "        epoch_loss += loss.item()\n",
    "        epoch_acc += acc.item()\n",
    "        \n",
    "        loss =  epoch_loss/len(train_loader)\n",
    "        acc = epoch_acc/len(train_loader)\n",
    "                               \n",
    "    losses.append(loss)\n",
    "    accur.append(acc)\n",
    "    print (\"epoch: {:<3} | loss: {:<6.5f} | accuracy: {:<10.5f}\".format(e, loss, acc))"
   ]
  },
  {
   "cell_type": "markdown",
   "id": "46d3a4b8",
   "metadata": {},
   "source": [
    "## Test Model\n",
    "Now we use our model to predict the labels of the test data."
   ]
  },
  {
   "cell_type": "code",
   "execution_count": 44,
   "id": "b59253f9",
   "metadata": {},
   "outputs": [],
   "source": [
    "y_pred_list = []\n",
    "model.eval()\n",
    "with torch.no_grad():\n",
    "    for X_batch in test_loader:\n",
    "        X_batch = X_batch.to(device)\n",
    "        y_test_pred = model(X_batch)\n",
    "        y_test_pred = torch.sigmoid(y_test_pred)\n",
    "        y_pred_tag = torch.round(y_test_pred)\n",
    "        y_pred_list.append(y_pred_tag.cpu().numpy())\n",
    "\n",
    "y_pred_list = [a.squeeze().tolist() for a in y_pred_list]"
   ]
  },
  {
   "cell_type": "markdown",
   "id": "8f2a6c4f",
   "metadata": {},
   "source": [
    "## Accuracy\n",
    "To compute the model's accurary we just count the number of correctly labeled data and divide that by the number of data in the test set."
   ]
  },
  {
   "cell_type": "code",
   "execution_count": 45,
   "id": "80107175",
   "metadata": {},
   "outputs": [
    {
     "name": "stdout",
     "output_type": "stream",
     "text": [
      "Class-wise Acurracy: [0.16216216 0.91160221]\n",
      "Overall Accuracy: 0.6941176470588235\n"
     ]
    }
   ],
   "source": [
    "matrix = metrics.confusion_matrix(y_test, y_pred_list)\n",
    "print(\"Class-wise Acurracy:\", matrix.diagonal()/matrix.sum(axis=1))\n",
    "print(\"Overall Accuracy:\", metrics.accuracy_score(y_test, y_pred_list))\n",
    "# print(classification_report(y_test, y_pred_list))"
   ]
  },
  {
   "cell_type": "markdown",
   "id": "2ad0df6d",
   "metadata": {},
   "source": [
    "## Graphs"
   ]
  },
  {
   "cell_type": "markdown",
   "id": "380958d5",
   "metadata": {},
   "source": [
    "### Loss vs Epochs\n",
    "The following graph shows the decrease in loss over the number of iterations of the training loop."
   ]
  },
  {
   "cell_type": "code",
   "execution_count": 47,
   "id": "6c8630b8",
   "metadata": {},
   "outputs": [
    {
     "data": {
      "text/plain": [
       "Text(0, 0.5, 'loss')"
      ]
     },
     "execution_count": 47,
     "metadata": {},
     "output_type": "execute_result"
    },
    {
     "data": {
      "image/png": "[encoded data removed]",
      "text/plain": [
       "<Figure size 432x288 with 1 Axes>"
      ]
     },
     "metadata": {
      "needs_background": "light"
     },
     "output_type": "display_data"
    }
   ],
   "source": [
    "#plotting the loss\n",
    "plt.plot(losses)\n",
    "plt.title('Loss vs Epochs')\n",
    "plt.xlabel('Epochs')\n",
    "plt.ylabel('loss')"
   ]
  },
  {
   "cell_type": "markdown",
   "id": "f6004947",
   "metadata": {},
   "source": [
    "### Accuracy vs Epochs\n",
    "The following graph shows the increase in the model accurary on the training data over the number of epochs of the training loop."
   ]
  },
  {
   "cell_type": "code",
   "execution_count": 48,
   "id": "319d0f21",
   "metadata": {},
   "outputs": [
    {
     "data": {
      "text/plain": [
       "Text(0, 0.5, 'Accuracy')"
      ]
     },
     "execution_count": 48,
     "metadata": {},
     "output_type": "execute_result"
    },
    {
     "data": {
      "image/png": "[encoded data removed]",
      "text/plain": [
       "<Figure size 432x288 with 1 Axes>"
      ]
     },
     "metadata": {
      "needs_background": "light"
     },
     "output_type": "display_data"
    }
   ],
   "source": [
    "#printing the accuracy\n",
    "plt.plot(accur)\n",
    "plt.title('Accuracy vs Epochs')\n",
    "plt.xlabel('Epochs')\n",
    "plt.ylabel('Accuracy')"
   ]
  },
  {
   "cell_type": "code",
   "execution_count": 114,
   "id": "467b0f8b",
   "metadata": {},
   "outputs": [],
   "source": [
    "# save the model\n",
    "torch.save(model.state_dict(), 'saved_models/binary_classification.pt')"
   ]
  },
  {
   "cell_type": "code",
   "execution_count": null,
   "id": "8cb5c53f",
   "metadata": {},
   "outputs": [],
   "source": []
  }
 ],
 "metadata": {
  "kernelspec": {
   "display_name": "Python 3 (ipykernel)",
   "language": "python",
   "name": "python3"
  },
  "language_info": {
   "codemirror_mode": {
    "name": "ipython",
    "version": 3
   },
   "file_extension": ".py",
   "mimetype": "text/x-python",
   "name": "python",
   "nbconvert_exporter": "python",
   "pygments_lexer": "ipython3",
   "version": "3.9.7"
  },
  "vscode": {
   "interpreter": {
    "hash": "b0fa6594d8f4cbf19f97940f81e996739fb7646882a419484c72d19e05852a7e"
   }
  }
 },
 "nbformat": 4,
 "nbformat_minor": 5
}
