{
 "cells": [
  {
   "cell_type": "markdown",
   "id": "65be9a46",
   "metadata": {},
   "source": [
    "# Nerual Network for Binary Classification of IPO Underpricing\n",
    "\n",
    "### References\n",
    "[PyTorch - Binary Classification](https://towardsdatascience.com/pytorch-tabular-binary-classification-a0368da5bb89)\n",
    "\n",
    "[PyTorch for deep learning binary classification logistic regression](https://medium.com/analytics-vidhya/pytorch-for-deep-learning-binary-classification-logistic-regression-382abd97fb43)"
   ]
  },
  {
   "cell_type": "code",
   "execution_count": 33,
   "id": "7391ddde",
   "metadata": {},
   "outputs": [],
   "source": [
    "import torch\n",
    "import torch.nn as nn\n",
    "import torch.optim as optim\n",
    "from torch.utils.data import Dataset, DataLoader\n",
    "\n",
    "import numpy as np\n",
    "import pandas as pd\n",
    "import seaborn as sns\n",
    "import matplotlib.pyplot as plt\n",
    "\n",
    "from sklearn.preprocessing import StandardScaler    \n",
    "from sklearn.model_selection import train_test_split\n",
    "from sklearn.metrics import confusion_matrix, classification_report\n",
    "from sklearn.utils import resample\n",
    "from sklearn.metrics import accuracy_score"
   ]
  },
  {
   "cell_type": "code",
   "execution_count": 17,
   "id": "18bb1a6c",
   "metadata": {},
   "outputs": [],
   "source": [
    "data = pd.read_csv('../data/clean_bloomberg_with_sectors.csv')"
   ]
  },
  {
   "cell_type": "code",
   "execution_count": 18,
   "id": "d92f2724",
   "metadata": {},
   "outputs": [
    {
     "data": {
      "text/plain": [
       "<AxesSubplot:xlabel='Underpriced', ylabel='count'>"
      ]
     },
     "execution_count": 18,
     "metadata": {},
     "output_type": "execute_result"
    },
    {
     "data": {
      "image/png": "[encoded data removed]",
      "text/plain": [
       "<Figure size 432x288 with 1 Axes>"
      ]
     },
     "metadata": {
      "needs_background": "light"
     },
     "output_type": "display_data"
    }
   ],
   "source": [
    "sns.countplot(x = 'Underpriced', data=data)"
   ]
  },
  {
   "cell_type": "code",
   "execution_count": 45,
   "id": "2b8244c7",
   "metadata": {},
   "outputs": [],
   "source": [
    "ipo_labels = data['Underpriced'].tolist()\n",
    "ipo_features = data._get_numeric_data().columns.values.tolist()[1:-1]\n",
    "ipo_features.remove('Offer To 1st Close')\n",
    "x = data[ipo_features]\n",
    "y = torch.tensor(data.loc[:, 'Underpriced'])\n",
    "X_train, X_test, y_train, y_test = train_test_split(x, y, test_size=0.30, random_state=351)\n",
    "scaler = StandardScaler()\n",
    "X_train = scaler.fit_transform(X_train)\n",
    "X_test = scaler.transform(X_test)"
   ]
  },
  {
   "cell_type": "markdown",
   "id": "14fb368b",
   "metadata": {},
   "source": [
    "### Hyperparameters\n",
    "**Epochs:**        Total number of iterations of the training loop. \\\n",
    "**Batch Size:**    The number of samples that will be propagated through the network. \\\n",
    "**Learning Rate:** Determines the step size at each iteration while moving towards minimum loss."
   ]
  },
  {
   "cell_type": "code",
   "execution_count": 46,
   "id": "13b0716c",
   "metadata": {},
   "outputs": [],
   "source": [
    "EPOCHS = 50\n",
    "BATCH_SIZE = 64\n",
    "LEARNING_RATE = 0.001"
   ]
  },
  {
   "cell_type": "markdown",
   "id": "b847defd",
   "metadata": {},
   "source": [
    "### Train and Test Split"
   ]
  },
  {
   "cell_type": "code",
   "execution_count": 47,
   "id": "b62e6ad5",
   "metadata": {},
   "outputs": [],
   "source": [
    "# train data\n",
    "class TrainData(Dataset):\n",
    "    def __init__(self, X_data, y_data):\n",
    "        self.X_data = X_data\n",
    "        self.y_data = y_data\n",
    "        \n",
    "    def __getitem__(self, index):\n",
    "        return self.X_data[index], self.y_data[index]\n",
    "        \n",
    "    def __len__ (self):\n",
    "        return len(self.X_data)\n",
    "\n",
    "# test data    \n",
    "class TestData(Dataset):\n",
    "    def __init__(self, X_data):\n",
    "        self.X_data = X_data\n",
    "        \n",
    "    def __getitem__(self, index):\n",
    "        return self.X_data[index]\n",
    "        \n",
    "    def __len__ (self):\n",
    "        return len(self.X_data)\n",
    "\n",
    "# Split train and test data\n",
    "train_data = TrainData(torch.FloatTensor(X_train), y_train)\n",
    "test_data = TestData(torch.FloatTensor(X_test))"
   ]
  },
  {
   "cell_type": "code",
   "execution_count": 48,
   "id": "06a114fe",
   "metadata": {},
   "outputs": [],
   "source": [
    "train_loader = DataLoader(dataset=train_data, batch_size=BATCH_SIZE, shuffle=True)\n",
    "test_loader = DataLoader(dataset=test_data, batch_size=1)"
   ]
  },
  {
   "cell_type": "markdown",
   "id": "fcfb9f79",
   "metadata": {},
   "source": [
    "## Neural Network Architecture\n",
    "\n",
    "We create a 2-layer Feed-Forward network with BatchNorm and Dropout.\n",
    "\n",
    "Our data has 14 features, so our networks input `nn.Linear` layer is length 14."
   ]
  },
  {
   "cell_type": "code",
   "execution_count": 49,
   "id": "574cbb7e",
   "metadata": {},
   "outputs": [],
   "source": [
    "class BinaryClassification(nn.Module):\n",
    "    def __init__(self):\n",
    "        super(BinaryClassification, self).__init__()\n",
    "        # Number of input features is 14.\n",
    "        self.layer_1 = nn.Linear(14, 64) \n",
    "        self.layer_2 = nn.Linear(64, 64)\n",
    "        self.layer_out = nn.Linear(64, 1) \n",
    "        \n",
    "        self.relu = nn.ReLU()\n",
    "        self.dropout = nn.Dropout(p=0.1)\n",
    "        self.batchnorm1 = nn.BatchNorm1d(64)\n",
    "        self.batchnorm2 = nn.BatchNorm1d(64)\n",
    "        \n",
    "    def forward(self, inputs):\n",
    "        x = self.relu(self.layer_1(inputs))\n",
    "        x = self.batchnorm1(x)\n",
    "        x = self.relu(self.layer_2(x))\n",
    "        x = self.batchnorm2(x)\n",
    "        x = self.dropout(x)\n",
    "        x = self.layer_out(x)\n",
    "        \n",
    "        return x"
   ]
  },
  {
   "cell_type": "code",
   "execution_count": 50,
   "id": "cbd85ee1",
   "metadata": {},
   "outputs": [
    {
     "name": "stdout",
     "output_type": "stream",
     "text": [
      "cpu\n"
     ]
    }
   ],
   "source": [
    "device = torch.device(\"cuda:0\" if torch.cuda.is_available() else \"cpu\")\n",
    "print(device)"
   ]
  },
  {
   "cell_type": "code",
   "execution_count": 51,
   "id": "9a00251d",
   "metadata": {},
   "outputs": [],
   "source": [
    "model = BinaryClassification()\n",
    "model.to(device)\n",
    "# print(model)\n",
    "criterion = nn.BCEWithLogitsLoss()\n",
    "optimizer = optim.Adam(model.parameters(), lr=LEARNING_RATE)"
   ]
  },
  {
   "cell_type": "code",
   "execution_count": 52,
   "id": "0ee8e23a",
   "metadata": {},
   "outputs": [],
   "source": [
    "def binary_acc(y_pred, y_test):\n",
    "    y_pred_tag = torch.round(torch.sigmoid(y_pred))\n",
    "\n",
    "    correct_results_sum = (y_pred_tag == y_test).sum().float()\n",
    "    acc = correct_results_sum/y_test.shape[0]\n",
    "    acc = torch.round(acc * 100)\n",
    "    \n",
    "    return acc"
   ]
  },
  {
   "cell_type": "markdown",
   "id": "d92e0f11",
   "metadata": {},
   "source": [
    "### Train Model"
   ]
  },
  {
   "cell_type": "code",
   "execution_count": 62,
   "id": "798a9312",
   "metadata": {},
   "outputs": [
    {
     "name": "stdout",
     "output_type": "stream",
     "text": [
      "epoch: 1   | loss: 0.37290 | accuracy: 83.00000  \n",
      "epoch: 2   | loss: 0.35872 | accuracy: 83.52632  \n",
      "epoch: 3   | loss: 0.34514 | accuracy: 84.36842  \n",
      "epoch: 4   | loss: 0.33535 | accuracy: 85.63158  \n",
      "epoch: 5   | loss: 0.32816 | accuracy: 86.26316  \n",
      "epoch: 6   | loss: 0.34469 | accuracy: 83.84211  \n",
      "epoch: 7   | loss: 0.34536 | accuracy: 83.84211  \n",
      "epoch: 8   | loss: 0.32828 | accuracy: 85.78947  \n",
      "epoch: 9   | loss: 0.32851 | accuracy: 85.36842  \n",
      "epoch: 10  | loss: 0.32645 | accuracy: 85.84211  \n",
      "epoch: 11  | loss: 0.31856 | accuracy: 86.26316  \n",
      "epoch: 12  | loss: 0.34663 | accuracy: 83.89474  \n",
      "epoch: 13  | loss: 0.33069 | accuracy: 85.57895  \n",
      "epoch: 14  | loss: 0.31255 | accuracy: 86.68421  \n",
      "epoch: 15  | loss: 0.31937 | accuracy: 85.26316  \n",
      "epoch: 16  | loss: 0.31054 | accuracy: 85.42105  \n",
      "epoch: 17  | loss: 0.31406 | accuracy: 86.00000  \n",
      "epoch: 18  | loss: 0.29924 | accuracy: 87.57895  \n",
      "epoch: 19  | loss: 0.30638 | accuracy: 87.26316  \n",
      "epoch: 20  | loss: 0.30323 | accuracy: 87.84211  \n",
      "epoch: 21  | loss: 0.31082 | accuracy: 85.57895  \n",
      "epoch: 22  | loss: 0.30494 | accuracy: 86.52632  \n",
      "epoch: 23  | loss: 0.31254 | accuracy: 86.21053  \n",
      "epoch: 24  | loss: 0.30268 | accuracy: 87.31579  \n",
      "epoch: 25  | loss: 0.30894 | accuracy: 86.57895  \n",
      "epoch: 26  | loss: 0.29959 | accuracy: 87.00000  \n",
      "epoch: 27  | loss: 0.31780 | accuracy: 86.05263  \n",
      "epoch: 28  | loss: 0.28941 | accuracy: 87.57895  \n",
      "epoch: 29  | loss: 0.27296 | accuracy: 88.68421  \n",
      "epoch: 30  | loss: 0.28942 | accuracy: 87.78947  \n",
      "epoch: 31  | loss: 0.29294 | accuracy: 88.10526  \n",
      "epoch: 32  | loss: 0.29455 | accuracy: 87.52632  \n",
      "epoch: 33  | loss: 0.28010 | accuracy: 87.42105  \n",
      "epoch: 34  | loss: 0.25879 | accuracy: 88.84211  \n",
      "epoch: 35  | loss: 0.27312 | accuracy: 88.78947  \n",
      "epoch: 36  | loss: 0.28884 | accuracy: 87.26316  \n",
      "epoch: 37  | loss: 0.29455 | accuracy: 87.00000  \n",
      "epoch: 38  | loss: 0.28298 | accuracy: 88.15789  \n",
      "epoch: 39  | loss: 0.28815 | accuracy: 88.10526  \n",
      "epoch: 40  | loss: 0.28008 | accuracy: 88.47368  \n",
      "epoch: 41  | loss: 0.25857 | accuracy: 89.36842  \n",
      "epoch: 42  | loss: 0.28097 | accuracy: 87.84211  \n",
      "epoch: 43  | loss: 0.27061 | accuracy: 87.68421  \n",
      "epoch: 44  | loss: 0.27712 | accuracy: 87.94737  \n",
      "epoch: 45  | loss: 0.27161 | accuracy: 87.84211  \n",
      "epoch: 46  | loss: 0.26018 | accuracy: 88.78947  \n",
      "epoch: 47  | loss: 0.26360 | accuracy: 89.84211  \n",
      "epoch: 48  | loss: 0.27136 | accuracy: 88.10526  \n",
      "epoch: 49  | loss: 0.26610 | accuracy: 88.31579  \n",
      "epoch: 50  | loss: 0.26573 | accuracy: 88.68421  \n"
     ]
    }
   ],
   "source": [
    "model.train()\n",
    "losses = []\n",
    "accur = []\n",
    "for e in range(1, EPOCHS+1):\n",
    "    epoch_loss = 0\n",
    "    epoch_acc = 0\n",
    "    for X_batch, y_batch in train_loader:\n",
    "        X_batch, y_batch = X_batch.to(device), y_batch.to(device)\n",
    "        optimizer.zero_grad()\n",
    "        \n",
    "        y_pred = model(X_batch)\n",
    "        \n",
    "        loss = criterion(y_pred, y_batch.unsqueeze(1).float())\n",
    "        acc = binary_acc(y_pred, y_batch.unsqueeze(1).float())\n",
    "        \n",
    "        loss.backward()\n",
    "        optimizer.step()\n",
    "        \n",
    "        epoch_loss += loss.item()\n",
    "        epoch_acc += acc.item()\n",
    "        \n",
    "        loss =  epoch_loss/len(train_loader)\n",
    "        acc = epoch_acc/len(train_loader)\n",
    "                               \n",
    "    losses.append(loss)\n",
    "    accur.append(acc)\n",
    "    print (\"epoch: {:<3} | loss: {:<6.5f} | accuracy: {:<10.5f}\".format(e, loss, acc))"
   ]
  },
  {
   "cell_type": "markdown",
   "id": "46d3a4b8",
   "metadata": {},
   "source": [
    "### Test Model"
   ]
  },
  {
   "cell_type": "code",
   "execution_count": 54,
   "id": "b59253f9",
   "metadata": {},
   "outputs": [],
   "source": [
    "y_pred_list = []\n",
    "model.eval()\n",
    "with torch.no_grad():\n",
    "    for X_batch in test_loader:\n",
    "        X_batch = X_batch.to(device)\n",
    "        y_test_pred = model(X_batch)\n",
    "        y_test_pred = torch.sigmoid(y_test_pred)\n",
    "        y_pred_tag = torch.round(y_test_pred)\n",
    "        y_pred_list.append(y_pred_tag.cpu().numpy())\n",
    "\n",
    "y_pred_list = [a.squeeze().tolist() for a in y_pred_list]"
   ]
  },
  {
   "cell_type": "markdown",
   "id": "8f2a6c4f",
   "metadata": {},
   "source": [
    "### Accuracy "
   ]
  },
  {
   "cell_type": "code",
   "execution_count": 55,
   "id": "80107175",
   "metadata": {},
   "outputs": [
    {
     "name": "stdout",
     "output_type": "stream",
     "text": [
      "Accurary:  0.6901960784313725\n",
      "              precision    recall  f1-score   support\n",
      "\n",
      "           0       0.44      0.23      0.30       148\n",
      "           1       0.74      0.88      0.80       362\n",
      "\n",
      "    accuracy                           0.69       510\n",
      "   macro avg       0.59      0.55      0.55       510\n",
      "weighted avg       0.65      0.69      0.66       510\n",
      "\n"
     ]
    }
   ],
   "source": [
    "correct = 0\n",
    "len(y_pred_list)\n",
    "for i in range(510):\n",
    "    if y_test.tolist()[i] == y_pred_list[i]:\n",
    "        correct += 1\n",
    "print(\"Accurary: \", correct / 510)\n",
    "print(classification_report(y_test, y_pred_list))"
   ]
  },
  {
   "cell_type": "markdown",
   "id": "380958d5",
   "metadata": {},
   "source": [
    "### Loss vs Epochs Graph"
   ]
  },
  {
   "cell_type": "code",
   "execution_count": 56,
   "id": "6c8630b8",
   "metadata": {},
   "outputs": [
    {
     "data": {
      "text/plain": [
       "Text(0, 0.5, 'loss')"
      ]
     },
     "execution_count": 56,
     "metadata": {},
     "output_type": "execute_result"
    },
    {
     "data": {
      "image/png": "[encoded data removed]",
      "text/plain": [
       "<Figure size 432x288 with 1 Axes>"
      ]
     },
     "metadata": {
      "needs_background": "light"
     },
     "output_type": "display_data"
    }
   ],
   "source": [
    "#plotting the loss\n",
    "plt.plot(losses)\n",
    "plt.title('Loss vs Epochs')\n",
    "plt.xlabel('Epochs')\n",
    "plt.ylabel('loss')"
   ]
  },
  {
   "cell_type": "markdown",
   "id": "f6004947",
   "metadata": {},
   "source": [
    "### Accuracy vs Epochs"
   ]
  },
  {
   "cell_type": "code",
   "execution_count": 57,
   "id": "319d0f21",
   "metadata": {},
   "outputs": [
    {
     "data": {
      "text/plain": [
       "Text(0, 0.5, 'Accuracy')"
      ]
     },
     "execution_count": 57,
     "metadata": {},
     "output_type": "execute_result"
    },
    {
     "data": {
      "image/png": "[encoded data removed]",
      "text/plain": [
       "<Figure size 432x288 with 1 Axes>"
      ]
     },
     "metadata": {
      "needs_background": "light"
     },
     "output_type": "display_data"
    }
   ],
   "source": [
    "#printing the accuracy\n",
    "plt.plot(accur)\n",
    "plt.title('Accuracy vs Epochs')\n",
    "plt.xlabel('Epochs')\n",
    "plt.ylabel('Accuracy')"
   ]
  },
  {
   "cell_type": "code",
   "execution_count": 58,
   "id": "68b11dad",
   "metadata": {},
   "outputs": [
    {
     "data": {
      "text/plain": [
       "0.699346405228758"
      ]
     },
     "execution_count": 58,
     "metadata": {},
     "output_type": "execute_result"
    }
   ],
   "source": [
    "(0.6941176470588235 + 0.7098039215686275 + 0.6941176470588235) / 3"
   ]
  },
  {
   "cell_type": "code",
   "execution_count": null,
   "id": "467b0f8b",
   "metadata": {},
   "outputs": [],
   "source": [
    "# save the model\n",
    "torch.save(model.state_dict(), 'saved_models/binary_classification.pt')"
   ]
  },
  {
   "cell_type": "code",
   "execution_count": null,
   "id": "8cb5c53f",
   "metadata": {},
   "outputs": [],
   "source": []
  }
 ],
 "metadata": {
  "kernelspec": {
   "display_name": "Python 3 (ipykernel)",
   "language": "python",
   "name": "python3"
  },
  "language_info": {
   "codemirror_mode": {
    "name": "ipython",
    "version": 3
   },
   "file_extension": ".py",
   "mimetype": "text/x-python",
   "name": "python",
   "nbconvert_exporter": "python",
   "pygments_lexer": "ipython3",
   "version": "3.9.7"
  },
  "vscode": {
   "interpreter": {
    "hash": "b0fa6594d8f4cbf19f97940f81e996739fb7646882a419484c72d19e05852a7e"
   }
  }
 },
 "nbformat": 4,
 "nbformat_minor": 5
}
