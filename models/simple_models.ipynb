{
 "cells": [
  {
   "cell_type": "code",
   "execution_count": 1,
   "id": "e3abffe3",
   "metadata": {},
   "outputs": [],
   "source": [
    "from sklearn.linear_model import LinearRegression\n",
    "from sklearn import svm, metrics, ensemble\n",
    "from sklearn.model_selection import train_test_split\n",
    "# from sklearn.neural_network import MLPClassifier\n",
    "# from torch.utils.data import Dataset, DataLoader\n",
    "import pandas as pd\n",
    "import numpy as np\n",
    "\n",
    "# saving models\n",
    "import pickle\n",
    "\n",
    "# visualizations\n",
    "import matplotlib.pyplot as plt\n",
    "import seaborn as sns"
   ]
  },
  {
   "cell_type": "code",
   "execution_count": 2,
   "id": "c3e5a964",
   "metadata": {},
   "outputs": [],
   "source": [
    "ipos = pd.read_csv('../data/clean_bloomberg_with_sectors.csv')"
   ]
  },
  {
   "cell_type": "markdown",
   "id": "e4225cbf",
   "metadata": {},
   "source": [
    "# SVM"
   ]
  },
  {
   "cell_type": "code",
   "execution_count": 3,
   "id": "5977a5da",
   "metadata": {},
   "outputs": [],
   "source": [
    "ipo_labels = ipos[\"Underpriced\"].tolist()\n",
    "ipo_features = ipos._get_numeric_data().columns.values.tolist()[1:-1]\n",
    "ipo_features.remove('Offer To 1st Close')"
   ]
  },
  {
   "cell_type": "code",
   "execution_count": 4,
   "id": "0a68a7ac",
   "metadata": {},
   "outputs": [],
   "source": [
    "ipo_features = ipo_features[:-1]\n",
    "ipo_features_data = ipos[ipo_features]\n",
    "train_data, test_data, train_labels, test_labels = train_test_split(ipo_features_data, ipo_labels, test_size=0.3)\n",
    "clf = svm.SVC()\n",
    "clf.fit(train_data, train_labels)\n",
    "ipo_labels_pred_svm = clf.predict(test_data)\n",
    "# save the model\n",
    "with open('saved_models/SVM.pkl', 'wb') as file:\n",
    "  pickle.dump(clf, file)"
   ]
  },
  {
   "cell_type": "code",
   "execution_count": 5,
   "id": "08249168",
   "metadata": {},
   "outputs": [
    {
     "name": "stdout",
     "output_type": "stream",
     "text": [
      "Accuracy: 0.7274509803921568\n"
     ]
    }
   ],
   "source": [
    "print(\"Accuracy:\", metrics.accuracy_score(test_labels, ipo_labels_pred_svm))"
   ]
  },
  {
   "cell_type": "markdown",
   "id": "a28618d9",
   "metadata": {},
   "source": [
    "# Gradient Boosting Regressor"
   ]
  },
  {
   "cell_type": "code",
   "execution_count": 6,
   "id": "814fe509",
   "metadata": {},
   "outputs": [],
   "source": [
    "params = {\n",
    "    \"n_estimators\": 500,\n",
    "    \"learning_rate\": 0.01,\n",
    "    \"loss\": \"squared_error\",\n",
    "}"
   ]
  },
  {
   "cell_type": "code",
   "execution_count": 7,
   "id": "7be52b0c",
   "metadata": {},
   "outputs": [],
   "source": [
    "reg = ensemble.GradientBoostingRegressor(**params)\n",
    "reg.fit(train_data, train_labels)\n",
    "# save the model\n",
    "with open('saved_models/gradient_boosting_regressor.pkl', 'wb') as file:\n",
    "  pickle.dump(reg, file)"
   ]
  },
  {
   "cell_type": "code",
   "execution_count": 8,
   "id": "1a28ae4f",
   "metadata": {},
   "outputs": [],
   "source": [
    "ipo_labels_pred_gb = reg.predict(test_data)"
   ]
  },
  {
   "cell_type": "code",
   "execution_count": 9,
   "id": "9c5c4608",
   "metadata": {},
   "outputs": [
    {
     "name": "stdout",
     "output_type": "stream",
     "text": [
      "Accuracy: 0.7529411764705882\n"
     ]
    }
   ],
   "source": [
    "print(\"Accuracy:\", metrics.accuracy_score(test_labels, ipo_labels_pred_gb.round()))"
   ]
  },
  {
   "cell_type": "code",
   "execution_count": null,
   "id": "5b788a8f",
   "metadata": {},
   "outputs": [],
   "source": []
  }
 ],
 "metadata": {
  "kernelspec": {
   "display_name": "Python 3.9.13 ('base')",
   "language": "python",
   "name": "python3"
  },
  "language_info": {
   "codemirror_mode": {
    "name": "ipython",
    "version": 3
   },
   "file_extension": ".py",
   "mimetype": "text/x-python",
   "name": "python",
   "nbconvert_exporter": "python",
   "pygments_lexer": "ipython3",
   "version": "3.9.13"
  },
  "vscode": {
   "interpreter": {
    "hash": "fc31e280b75524b4b3dc48620d9955e9f0dcb074fec9ce8e5d6a0782dd021286"
   }
  }
 },
 "nbformat": 4,
 "nbformat_minor": 5
}
