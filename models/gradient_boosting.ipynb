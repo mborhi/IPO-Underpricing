{
 "cells": [
  {
   "cell_type": "markdown",
   "id": "69c8e45a",
   "metadata": {},
   "source": [
    "# Gradient Boosting Classifier\n",
    "Creates an ensemble of weak predictions decision trees."
   ]
  },
  {
   "cell_type": "code",
   "execution_count": 15,
   "id": "2d7813ab",
   "metadata": {},
   "outputs": [],
   "source": [
    "from sklearn.ensemble import GradientBoostingClassifier\n",
    "from sklearn import metrics\n",
    "from sklearn.model_selection import train_test_split\n",
    "import pandas as pd\n",
    "\n",
    "# visualizations\n",
    "import matplotlib.pyplot as plt\n",
    "import seaborn as sns\n",
    "\n",
    "# saving models\n",
    "import pickle"
   ]
  },
  {
   "cell_type": "markdown",
   "id": "60f11f8a",
   "metadata": {},
   "source": [
    "## Load Data"
   ]
  },
  {
   "cell_type": "code",
   "execution_count": 16,
   "id": "c3e5a964",
   "metadata": {},
   "outputs": [],
   "source": [
    "ipos = pd.read_csv('../data/clean_bloomberg_with_sectors.csv')\n",
    "ipo_labels = ipos[\"Underpriced\"].tolist()\n",
    "ipo_features = ipos._get_numeric_data().columns.values.tolist()[1:-1]\n",
    "ipo_features.remove('Offer To 1st Close')"
   ]
  },
  {
   "cell_type": "markdown",
   "id": "379db878",
   "metadata": {},
   "source": [
    "## Split data into Training and Testing sets\n",
    "The data is split into 70% training data and 30% test data."
   ]
  },
  {
   "cell_type": "code",
   "execution_count": 17,
   "id": "d8ca14b8",
   "metadata": {},
   "outputs": [],
   "source": [
    "ipo_features = ipo_features[:-1]\n",
    "ipo_features_data = ipos[ipo_features]\n",
    "train_data, test_data, train_labels, test_labels = train_test_split(ipo_features_data, ipo_labels, test_size=0.3)"
   ]
  },
  {
   "cell_type": "markdown",
   "id": "86c64069",
   "metadata": {},
   "source": [
    "## Define Hyperparameters\n",
    "- `n_estimators:` How many decisions trees should be creates.\n",
    "- `learning_rate:` Step size at each iteration of training.\n",
    "- `loss:` Define a type of loss function."
   ]
  },
  {
   "cell_type": "code",
   "execution_count": 18,
   "id": "814fe509",
   "metadata": {},
   "outputs": [],
   "source": [
    "params = {\n",
    "    \"n_estimators\": 500,\n",
    "    \"learning_rate\": 0.01,\n",
    "    \"loss\": \"log_loss\",\n",
    "}"
   ]
  },
  {
   "cell_type": "markdown",
   "id": "b92385e1",
   "metadata": {},
   "source": [
    "## Train model"
   ]
  },
  {
   "cell_type": "code",
   "execution_count": 19,
   "id": "7be52b0c",
   "metadata": {},
   "outputs": [],
   "source": [
    "reg = GradientBoostingClassifier(**params)\n",
    "reg.fit(train_data, train_labels)\n",
    "ipo_labels_pred = reg.predict(test_data)"
   ]
  },
  {
   "cell_type": "markdown",
   "id": "4dc96d7f",
   "metadata": {},
   "source": [
    "### Accuracy"
   ]
  },
  {
   "cell_type": "code",
   "execution_count": 20,
   "id": "9c5c4608",
   "metadata": {},
   "outputs": [
    {
     "name": "stdout",
     "output_type": "stream",
     "text": [
      "Class-wise Acurracy: [0.13669065 0.96226415]\n",
      "Overall Accuracy: 0.7372549019607844\n"
     ]
    }
   ],
   "source": [
    "matrix = metrics.confusion_matrix(test_labels, ipo_labels_pred)\n",
    "print(\"Class-wise Acurracy:\", matrix.diagonal()/matrix.sum(axis=1))\n",
    "print(\"Overall Accuracy:\", metrics.accuracy_score(test_labels, ipo_labels_pred))"
   ]
  },
  {
   "cell_type": "code",
   "execution_count": 21,
   "id": "d8c7dc09",
   "metadata": {},
   "outputs": [],
   "source": [
    "# save the model\n",
    "with open('saved_models/gradient_boosting_classifier.pkl', 'wb') as file:\n",
    "  pickle.dump(reg, file)"
   ]
  },
  {
   "cell_type": "code",
   "execution_count": null,
   "id": "1399efa8",
   "metadata": {},
   "outputs": [],
   "source": []
  }
 ],
 "metadata": {
  "kernelspec": {
   "display_name": "Python 3 (ipykernel)",
   "language": "python",
   "name": "python3"
  },
  "language_info": {
   "codemirror_mode": {
    "name": "ipython",
    "version": 3
   },
   "file_extension": ".py",
   "mimetype": "text/x-python",
   "name": "python",
   "nbconvert_exporter": "python",
   "pygments_lexer": "ipython3",
   "version": "3.9.7"
  },
  "vscode": {
   "interpreter": {
    "hash": "fc31e280b75524b4b3dc48620d9955e9f0dcb074fec9ce8e5d6a0782dd021286"
   }
  }
 },
 "nbformat": 4,
 "nbformat_minor": 5
}
