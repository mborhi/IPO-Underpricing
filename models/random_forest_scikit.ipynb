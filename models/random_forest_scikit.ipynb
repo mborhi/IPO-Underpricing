{
 "cells": [
  {
   "cell_type": "markdown",
   "metadata": {},
   "source": [
    "# Random Forest Model For Predicting First Day IPO Performance\n",
    "\n",
    "[Text describing the overview of this notebook]\n",
    "\n",
    "To begin, we will import the necessary modules and libraries"
   ]
  },
  {
   "cell_type": "code",
   "execution_count": null,
   "metadata": {},
   "outputs": [],
   "source": [
    "from sklearn.ensemble import RandomForestClassifier\n",
    "from sklearn.datasets import make_classification\n",
    "from sklearn.model_selection import train_test_split\n",
    "from sklearn import metrics\n",
    "import pandas as pd\n",
    "import pickle\n",
    "\n",
    "from sklearn.tree import export_graphviz\n",
    "from subprocess import call\n",
    "from IPython.display import Image"
   ]
  },
  {
   "cell_type": "markdown",
   "metadata": {},
   "source": [
    "We read the ipo data from a csv to a pandas data frame.\n",
    "\n",
    "Next, we convert the labels of the dataset to be numeric so that it can be processed in our random forest model. We store the labels of the features we choose to use in `ipo_features`. Then we normalize these features of each ipo by converting it to a float32 data type.\n",
    "\n"
   ]
  },
  {
   "cell_type": "code",
   "execution_count": null,
   "metadata": {},
   "outputs": [],
   "source": [
    "ipos = pd.read_csv(\"../data/clean_bloomberg_with_sectors_macro.csv\")\n",
    "# get labels\n",
    "ipo_labels = ipos[\"Underpriced\"].tolist()\n",
    "# get features\n",
    "ipos = ipos.select_dtypes(['float64', 'float32', int])\n",
    "ipo_features = ipos._get_numeric_data().columns.values.tolist()[1:-1]\n",
    "# remove feature wich defines the label\n",
    "ipo_features.remove('Offer To 1st Close')\n",
    "# TODO remove these features from the csv\n",
    "ipo_features.remove('Shares Outstanding (M).1')\n",
    "ipo_features.remove('Offer Size (M).1')\n",
    "print(\"Possible Features:\", ipo_features)\n",
    "# convert data types of all possible feature columns\n",
    "# for ipo_feature in ipo_features :\n",
    "#     ipos[ipo_feature] = ipos[ipo_feature].astype('float32').notnull()"
   ]
  },
  {
   "cell_type": "markdown",
   "metadata": {},
   "source": [
    "The features we have chose to use are stored in `ipo_features_data` as a pandas dataframe. Using this data frame long with the labels, we make a test and training split. \n",
    "\n",
    "We then use `sci-kit learn`'s Random Forest model to initialize a classification model. This model is trained on the designated training data we have created. We then make a prediction by feeding the newly created model the test set we created.\n",
    "\n",
    "Random forest is an ensemble machine learning algorithm that uses multiple decision trees to make predictions. It works by randomly selecting a subset of features from the dataset and then building a decision tree for each subset. This is process is called bagging. Each tree is then used to make a prediction, and the final prediction is made by taking the average of all the individual tree predictions. Bagging along with with the other processes helps reduce overfitting and improves accuracy. Random forest also has the ability to handle large datasets with high dimensionality, making it a powerful tool for predictive analytics."
   ]
  },
  {
   "cell_type": "code",
   "execution_count": null,
   "metadata": {},
   "outputs": [],
   "source": [
    "# get columns for specified features\n",
    "ipo_features = ipo_features[:-1]\n",
    "ipo_features_data = ipos[ipo_features]\n",
    "# split dataset to trianing set and test set\n",
    "ipo_features_data_train, ipo_features_data_test, ipo_labels_train, ipo_labels_test = train_test_split(ipo_features_data, ipo_labels, test_size=0.3)\n",
    "# create classifier \n",
    "clf = RandomForestClassifier(n_estimators=200)\n",
    "# train the model\n",
    "clf.fit(ipo_features_data_train, ipo_labels_train)\n",
    "# predict\n",
    "ipo_labels_pred = clf.predict(ipo_features_data_test)\n",
    "# save the trained model\n",
    "with open('saved_models/random_forest_bloomberg_total.pkl', 'wb') as file :\n",
    "    pickle.dump(clf, file)"
   ]
  },
  {
   "cell_type": "code",
   "execution_count": null,
   "metadata": {},
   "outputs": [],
   "source": [
    "# check accuracy\n",
    "print(\"Accuracy:\", metrics.accuracy_score(ipo_labels_test, ipo_labels_pred))"
   ]
  },
  {
   "cell_type": "markdown",
   "metadata": {},
   "source": [
    "We now analyze the importance of each feature."
   ]
  },
  {
   "cell_type": "code",
   "execution_count": null,
   "metadata": {},
   "outputs": [],
   "source": [
    "# find feature importance\n",
    "feature_imp = pd.Series(clf.feature_importances_,index=[ipo_features]).sort_values(ascending=False)\n",
    "feature_imp"
   ]
  },
  {
   "cell_type": "code",
   "execution_count": null,
   "metadata": {},
   "outputs": [],
   "source": [
    "import matplotlib.pyplot as plt\n",
    "import seaborn as sns\n",
    "%matplotlib inline\n",
    "# Creating a bar plot\n",
    "sns.barplot(x=feature_imp, y=feature_imp.index)\n",
    "# Add labels to your graph\n",
    "plt.xlabel('Feature Importance Score')\n",
    "plt.ylabel('Features')\n",
    "plt.title(\"Visualizing Important Features\")\n",
    "plt.legend()\n",
    "plt.show()"
   ]
  },
  {
   "cell_type": "code",
   "execution_count": null,
   "metadata": {},
   "outputs": [],
   "source": [
    "estimator = clf.estimators_[10]"
   ]
  },
  {
   "cell_type": "code",
   "execution_count": null,
   "metadata": {},
   "outputs": [],
   "source": [
    "export_graphviz(estimator, out_file='small_tree.dot', \n",
    "                feature_names = ['Offer Price', 'Opening Price'],\n",
    "                #class_names = clf.target_names,\n",
    "                rounded = True, proportion = False, \n",
    "                precision = 1, filled = True)"
   ]
  },
  {
   "cell_type": "code",
   "execution_count": null,
   "metadata": {},
   "outputs": [],
   "source": [
    "call(['dot', '-Tpng', 'small_tree.dot', '-o', 'small_tree.png', '-Gdpi=600'])"
   ]
  },
  {
   "cell_type": "code",
   "execution_count": null,
   "metadata": {},
   "outputs": [],
   "source": [
    "Image(filename = 'small_tree.png')"
   ]
  }
 ],
 "metadata": {
  "kernelspec": {
   "display_name": "Python 3 (ipykernel)",
   "language": "python",
   "name": "python3"
  },
  "language_info": {
   "codemirror_mode": {
    "name": "ipython",
    "version": 3
   },
   "file_extension": ".py",
   "mimetype": "text/x-python",
   "name": "python",
   "nbconvert_exporter": "python",
   "pygments_lexer": "ipython3",
   "version": "3.9.13"
  },
  "vscode": {
   "interpreter": {
    "hash": "fc31e280b75524b4b3dc48620d9955e9f0dcb074fec9ce8e5d6a0782dd021286"
   }
  }
 },
 "nbformat": 4,
 "nbformat_minor": 2
}
