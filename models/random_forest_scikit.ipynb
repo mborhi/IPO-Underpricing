{
 "cells": [
  {
   "cell_type": "markdown",
   "metadata": {},
   "source": [
    "# Random Forest Model For Predicting First Day IPO Performance\n",
    "\n",
    "[Text describing the overview of this notebook]\n",
    "\n",
    "To begin, we will import the necessary modules and libraries"
   ]
  },
  {
   "cell_type": "code",
   "execution_count": 2,
   "metadata": {},
   "outputs": [],
   "source": [
    "from sklearn.ensemble import RandomForestClassifier\n",
    "from sklearn.datasets import make_classification\n",
    "from sklearn.model_selection import train_test_split\n",
    "from sklearn import metrics\n",
    "import pandas as pd"
   ]
  },
  {
   "cell_type": "markdown",
   "metadata": {},
   "source": [
    "We read the ipo data from a csv to a pandas data frame.\n",
    "\n",
    "Next, we convert the labels of the dataset to be numeric so that it can be processed in our random forest model. We store the labels of the features we choose to use in `ipo_features`. Then we normalize these features of each ipo by converting it to a float32 data type.\n",
    "\n"
   ]
  },
  {
   "cell_type": "code",
   "execution_count": 3,
   "metadata": {},
   "outputs": [
    {
     "name": "stdout",
     "output_type": "stream",
     "text": [
      "Possible Features: ['Offer Price', 'Opening Price', '1st Day Close', '1st Day Percent Change', 'Change Opening', 'Change Close', 'Year']\n"
     ]
    }
   ],
   "source": [
    "ipos = pd.read_csv(\"../data/scoop_ipos.csv\")\n",
    "# get labels\n",
    "ipos[\"Underpriced\"] = ipos[\"Underpriced\"].astype(int)\n",
    "ipo_labels = ipos[\"Underpriced\"].tolist()\n",
    "# get features\n",
    "ipos = ipos.select_dtypes(['float64', 'float32', int])\n",
    "ipo_features = ipos._get_numeric_data().columns.values.tolist()[1:-1]\n",
    "print(\"Possible Features:\", ipo_features)\n",
    "# convert data types of all possible feature columns\n",
    "for ipo_feature in ipo_features :\n",
    "    ipos[ipo_feature] = ipos[ipo_feature].astype('float32').notnull()"
   ]
  },
  {
   "cell_type": "markdown",
   "metadata": {},
   "source": [
    "The features we have chose to use are stored in `ipo_features_data` as a pandas dataframe. Using this data frame long with the labels, we make a test and training split. \n",
    "\n",
    "We then use `sci-kit learn`'s Random Forest model to initialize a classification model. This model is trained on the designated training data we have created. We then make a prediction by feeding the newly created model the test set we created.\n",
    "\n",
    "Random forest is an ensemble machine learning algorithm that uses multiple decision trees to make predictions. It works by randomly selecting a subset of features from the dataset and then building a decision tree for each subset. This is process is called bagging. Each tree is then used to make a prediction, and the final prediction is made by taking the average of all the individual tree predictions. Bagging along with with the other processes helps reduce overfitting and improves accuracy. Random forest also has the ability to handle large datasets with high dimensionality, making it a powerful tool for predictive analytics."
   ]
  },
  {
   "cell_type": "code",
   "execution_count": 4,
   "metadata": {},
   "outputs": [],
   "source": [
    "# get columns for specified features\n",
    "ipo_features = ipo_features[:-1]\n",
    "ipo_features_data = ipos[['Offer Price', 'Opening Price']]\n",
    "# split dataset to trianing set and test set\n",
    "ipo_features_data_train, ipo_features_data_test, ipo_labels_train, ipo_labels_test = train_test_split(ipo_features_data, ipo_labels, test_size=0.3)\n",
    "# create classifier \n",
    "clf = RandomForestClassifier(n_estimators=100)\n",
    "# train the model\n",
    "clf.fit(ipo_features_data_train, ipo_labels_train)\n",
    "# predict\n",
    "ipo_labels_pred = clf.predict(ipo_features_data_test)\n",
    "# TODO save trained models"
   ]
  },
  {
   "cell_type": "code",
   "execution_count": 5,
   "metadata": {},
   "outputs": [
    {
     "name": "stdout",
     "output_type": "stream",
     "text": [
      "Accuracy: 0.7717287488061128\n"
     ]
    }
   ],
   "source": [
    "# check accuracy\n",
    "print(\"Accuracy:\", metrics.accuracy_score(ipo_labels_test, ipo_labels_pred))"
   ]
  },
  {
   "cell_type": "markdown",
   "metadata": {},
   "source": [
    "We now analyze the importance of each feature."
   ]
  },
  {
   "cell_type": "code",
   "execution_count": 6,
   "metadata": {},
   "outputs": [
    {
     "data": {
      "text/plain": [
       "Opening Price    0.529412\n",
       "Offer Price      0.470588\n",
       "dtype: float64"
      ]
     },
     "execution_count": 6,
     "metadata": {},
     "output_type": "execute_result"
    }
   ],
   "source": [
    "# find feature importance\n",
    "feature_imp = pd.Series(clf.feature_importances_,index=['Offer Price', 'Opening Price']).sort_values(ascending=False)\n",
    "feature_imp"
   ]
  },
  {
   "cell_type": "code",
   "execution_count": 7,
   "metadata": {},
   "outputs": [
    {
     "name": "stderr",
     "output_type": "stream",
     "text": [
      "No artists with labels found to put in legend.  Note that artists whose label start with an underscore are ignored when legend() is called with no argument.\n"
     ]
    },
    {
     "data": {
      "image/png": "[encoded data removed]",
      "text/plain": [
       "<Figure size 640x480 with 1 Axes>"
      ]
     },
     "metadata": {},
     "output_type": "display_data"
    }
   ],
   "source": [
    "import matplotlib.pyplot as plt\n",
    "import seaborn as sns\n",
    "%matplotlib inline\n",
    "# Creating a bar plot\n",
    "sns.barplot(x=feature_imp, y=feature_imp.index)\n",
    "# Add labels to your graph\n",
    "plt.xlabel('Feature Importance Score')\n",
    "plt.ylabel('Features')\n",
    "plt.title(\"Visualizing Important Features\")\n",
    "plt.legend()\n",
    "plt.show()"
   ]
  }
 ],
 "metadata": {
  "kernelspec": {
   "display_name": "Python 3.9.13 ('base')",
   "language": "python",
   "name": "python3"
  },
  "language_info": {
   "codemirror_mode": {
    "name": "ipython",
    "version": 3
   },
   "file_extension": ".py",
   "mimetype": "text/x-python",
   "name": "python",
   "nbconvert_exporter": "python",
   "pygments_lexer": "ipython3",
   "version": "3.9.13"
  },
  "orig_nbformat": 4,
  "vscode": {
   "interpreter": {
    "hash": "fc31e280b75524b4b3dc48620d9955e9f0dcb074fec9ce8e5d6a0782dd021286"
   }
  }
 },
 "nbformat": 4,
 "nbformat_minor": 2
}
